{
  "cells": [
    {
      "cell_type": "markdown",
      "source": [
        "# Student Name: Mohamad Jawad ABOU ALEIWI"
      ],
      "metadata": {
        "id": "1SuV1oc4yar2"
      }
    },
    {
      "cell_type": "markdown",
      "metadata": {
        "id": "WpYK9fIlyZCq"
      },
      "source": [
        "# Lab Deep Learning / Multi-Layer Perceptron for classification / in pytorch\n",
        "\n",
        "**Author: geoffroy.peeters@telecom-paris.fr**\n",
        "\n",
        "For any remark or suggestion, please feel free to contact me.\n",
        "\n",
        "Last edit: 2020/04/27 peeters\n",
        "\n",
        "Read the \"introduction to pytorch\" slides first: https://perso.telecom-paristech.fr/gpeeters/doc/pytorch/\n",
        "\n",
        "**Is is recommended that you first perform the ```Lab Deep Learning / Multi-Layer Perceptron for regression / in pytorch``` Lab to understand how to write a Neural Network in pytorch.**\n",
        "\n",
        "\n",
        "## Objective:\n",
        "\n",
        "The objective of this lab is to develop a two hidden layers MLP to perform image **classification**.\n",
        "\n",
        "While the previous Lab ```Lab Deep Learning / Multi-Layer Perceptron for regression / in pytorch``` focused on how to write a Neural Network, the present Lab focuses on managing datasets and splitting training and testing .\n",
        "\n",
        "We will use MNIST for the image dataset.\n",
        "\n",
        "## Your task:\n",
        "\n",
        "You need to add the missing parts in the code (parts between ```# --- START CODE HERE``` and ```# --- END CODE HERE```)\n",
        "\n",
        "## Documentation:\n",
        "- NN: https://pytorch.org/docs/stable/nn.html\n",
        "- Autograd: https://pytorch.org/docs/stable/autograd.html\n",
        "- Optim: https://pytorch.org/docs/stable/optim.html\n"
      ]
    },
    {
      "cell_type": "code",
      "execution_count": null,
      "metadata": {
        "id": "h6o3NZfNyZCt"
      },
      "outputs": [],
      "source": [
        "import torch\n",
        "import torchvision\n",
        "import torchvision.transforms as transforms\n",
        "import torch.nn as nn\n",
        "import torch.nn.functional as F\n",
        "import torch.optim as optim\n",
        "from torchvision import datasets, transforms\n",
        "import matplotlib.pyplot as plt"
      ]
    },
    {
      "cell_type": "markdown",
      "metadata": {
        "id": "Vy7u-IVkyZCu"
      },
      "source": [
        "## Data management\n",
        "\n",
        "It is common to separate the datasets into\n",
        "- a **training** part (used to find the network parameters which minimize the loss)\n",
        "- a **test part** (used to estimate the performances).\n",
        "\n",
        "The training part can itself be further splitted into a training and a validation part (the validation part is then used to fix the hyper-parameters of the system).\n",
        "\n",
        "When performing ```batch gradient descent``` the whole training set is used to compute the gradients (which itself is used for the parameter optimization).\n",
        "However when performing ```stochastic or mini-batch gradient descent``` only a part of the training data is used at each iteration.\n",
        "\n",
        "We therefore needs to write all the necessary code, to get these mini-batches of data, be sure that all data have been seen, potentially randomize the order of appearance of these data and potentially perform some modifications of the data before giving them to the network.\n",
        "\n",
        "Fortunatelly, pytorch has associated to it (but not included in it) a nice package (```torchvision```) which allows to do all that for us.\n",
        "\n",
        "This package allows to perform these process for any datasets but has a pre-tuned method for the ```MNIST```datasets.\n",
        "\n",
        "### Datasets\n",
        "\n",
        "In the following we will us ```datasets.MNIST``` to load the train and test data.\n",
        "\n",
        "We need to tell it to download the data, where to dowload them and if we want the training or the testing part of it.\n",
        "\n",
        "We then tell it if we want to apply some transformations to the data.\n",
        "\n",
        "For this lab, we will transform the data by\n",
        "- 1) transforming them to torch tensors (using ```transforms.ToTensor()```); since by default they are not torch tensors\n",
        "- 2) normalize them to zero mean and unit standard deviation (using ```transforms.Normalize()```).\n",
        "\n",
        "It is of course possible to also apply data augmentation.\n",
        "\n",
        "Since we have several transforms to be performed, we will compose them using ```transforms.Compose([transform1, transform2])```\n",
        "\n",
        "The corresponding datasets is a class which contains the pairs of [input tensors $X$, corresponding ground-truth label $y$].\n",
        "\n",
        "### Dataloader\n",
        "\n",
        "Another nice pytorch facility is the ```Dataloader``` which transforms the dataset to be used as an iterator (i.e. within ```for data in myDataloader: ```).\n",
        "\n",
        "Moreover, ```Dataloader``` allows to specify\n",
        "- how many data will be provided each time it is called (```batch_size```)\n",
        "- if the order of appearance of the data with be random (````shuffle````).\n",
        "\n",
        "We therefore convert our datasets (train and test) to ```DataLoader``` that are directly used as iterator during the iterations (it DataLoader manage directly the mini-batch and shuffling)."
      ]
    },
    {
      "cell_type": "code",
      "execution_count": null,
      "metadata": {
        "id": "zsSEvakPyZCv"
      },
      "outputs": [],
      "source": [
        "# --- START CODE HERE\n",
        "\n",
        "transform = transforms.Compose([\n",
        "    transforms.ToTensor(),\n",
        "    transforms.Normalize((0.5,), (0.5,))\n",
        "])\n",
        "\n",
        "# Download and load the datasets\n",
        "train_set = torchvision.datasets.MNIST(root='./data', train=True, download=True, transform=transform)\n",
        "train_loader = torch.utils.data.DataLoader(train_set, batch_size=64, shuffle=True)\n",
        "test_set = torchvision.datasets.MNIST(root='./data', train=False, download=True, transform=transform)\n",
        "test_loader = torch.utils.data.DataLoader(test_set, batch_size=64, shuffle=False)\n",
        "# --- END CODE HERE"
      ]
    },
    {
      "cell_type": "code",
      "execution_count": null,
      "metadata": {
        "id": "FFuEXr0tyZCw",
        "outputId": "f8a134ce-454c-429f-c8e2-76e830b15c22",
        "colab": {
          "base_uri": "https://localhost:8080/"
        }
      },
      "outputs": [
        {
          "output_type": "stream",
          "name": "stdout",
          "text": [
            "dataset type: <class 'torchvision.datasets.mnist.MNIST'>\n",
            "dataset size: 60000\n",
            "X data: torch.Size([1, 28, 28])\n",
            "y data: 5\n"
          ]
        }
      ],
      "source": [
        "print(\"dataset type: {}\".format(type(train_set)))\n",
        "print(\"dataset size: {}\".format(len(train_set)))\n",
        "print(\"X data: {}\".format(train_set[0][0].size()))\n",
        "print(\"y data: {}\".format(train_set[0][1]))"
      ]
    },
    {
      "cell_type": "markdown",
      "metadata": {
        "id": "piAf25dxyZCx"
      },
      "source": [
        "### Display the first 5 data of MNIST dataset."
      ]
    },
    {
      "cell_type": "code",
      "execution_count": null,
      "metadata": {
        "id": "Jsa2MAEhyZCx",
        "colab": {
          "base_uri": "https://localhost:8080/",
          "height": 168
        },
        "outputId": "271ab4b6-b237-477b-96bf-4bbb1ffe0747"
      },
      "outputs": [
        {
          "output_type": "display_data",
          "data": {
            "text/plain": [
              "<Figure size 640x480 with 5 Axes>"
            ],
            "image/png": "[encoded data removed]"
          },
          "metadata": {}
        }
      ],
      "source": [
        "# ------------------------------------\n",
        "for num in range(0,5):\n",
        "    one_data = next(iter(train_loader))\n",
        "    plt.subplot(1,5,num+1)\n",
        "    plt.imshow(one_data[0][0][0,:,:])\n",
        "    plt.title(one_data[1][0].item())"
      ]
    },
    {
      "cell_type": "markdown",
      "metadata": {
        "id": "bo6-KX8UyZCy"
      },
      "source": [
        "## Network setting\n",
        "\n",
        "While image classification, is usually performed using Convolutional Neural Networks, we will use here a Multi-Layer-Perceptron (also named ```fully-connected```).\n",
        "For this, we will flatten (i.e. convert the iamge 2D matrix to a 1D vector) the input images.\n",
        "\n",
        "- The input images are of size 28*28 and are converted to vectors of size ```n_in```=784.\n",
        "\n",
        "- The two hidden layers have````n_h1````=500 and ```n_h2```=256 unit/neurons each and ```Relu```activations.\n",
        "\n",
        "- The output are the ```n_out```=10 classes (the 10 digits to be recognized).\n",
        "\n",
        "Since we deal with a muti-class problem (10 classes), the output activations is therefore a ```softmax```.\n",
        "\n",
        "Note that since the ```softmax```output will be given to a ```cross-entropy```, the ```log```et the latter can be directly added to the ```softmax```. This leads to the pytorch function ```F.log_softmax```.\n"
      ]
    },
    {
      "cell_type": "code",
      "execution_count": null,
      "metadata": {
        "id": "H0uIIQb9yZCy"
      },
      "outputs": [],
      "source": [
        "class Net(nn.Module):\n",
        "    def __init__(self):\n",
        "        n_in = 28*28\n",
        "        n_h1 = 500\n",
        "        n_h2 = 256\n",
        "        n_out = 10\n",
        "        super(Net, self).__init__()\n",
        "        # --- START CODE HERE\n",
        "        self.fc1 = nn.Linear(n_in, n_h1)\n",
        "        self.fc2 = nn.Linear(n_h1, n_h2)\n",
        "        self.fc3 = nn.Linear(n_h2, n_out)\n",
        "        # --- END CODE HERE\n",
        "    def forward(self, x):\n",
        "        # --- START CODE HERE\n",
        "        x = self.fc3(F.relu(self.fc2(F.relu(self.fc1(x.view(-1, 28*28))))))\n",
        "        # --- END CODE HERE\n",
        "        return F.log_softmax(x, dim=1)"
      ]
    },
    {
      "cell_type": "markdown",
      "metadata": {
        "id": "x7qcgKFwyZCz"
      },
      "source": [
        "## Defining the train and test functions\n",
        "\n",
        "In the present lab, we distinguish between train and test data.\n",
        "We therefore write\n",
        "- a train function (to learn the network parameters on the train data),\n",
        "- a test function (to evaluate the network's performances on the test data).\n",
        "\n",
        "The ```train``` and ```test```function will perform the computation for a given ```epoch```.\n",
        "The functions therefore only need to ```loop over``` the mini-batches.\n",
        "This is now easy since we defined our ```Dataloader```for train and test.\n",
        "\n",
        "For the train function, for each mini-batch, we  \n",
        "- compute the forward pass by passing the data to the model: haty = model(x)\n",
        "- compute the the loss (the criterion)\n",
        "- putting at zero the gradients of all the parameters of the network (this is important since, by default, pytorch accumulate the gradients over time)\n",
        "- computing the backpropagation (using as before .backward())\n",
        "- performing one step of optimization (using .step())\n",
        "\n",
        "For the train function, we set the model to train mode (```model.train()```). This allows to set some specific behaviours for training (such as activate the dropout).\n",
        "\n",
        "For the test function, we set the model to train mode (```model.eval()```). This allows to set some specific behaviours for training (such as removing the dropout).\n",
        "\n",
        "\n",
        "Since we are dealing with a multi-class problem (10 classes), we will minimize as loss the ```cross-entropy``` (named negative-log-likelihood ```nll_loss```in pytorch).\n",
        "Since ```nll_loss```does not contains the ```log``` we have added it directly to the softmax by using the ```log_softmax```as output activation of our network.\n",
        "\n",
        "Note that we could use the loss from the nn package (```torch.nn.NLLLoss```) it is then a class which needs to be first instanciated.\n",
        "We can also use the same but as a function (```F.nll_loss()```) which can be used directly without instanciating the class."
      ]
    },
    {
      "cell_type": "code",
      "execution_count": null,
      "metadata": {
        "id": "3dGuPt96yZCz"
      },
      "outputs": [],
      "source": [
        "def train(model, train_loader, optimizer, epoch):\n",
        "    model.train()\n",
        "    for batch_idx, (data, target) in enumerate(train_loader):\n",
        "        # --- START CODE HERE\n",
        "        optimizer.zero_grad()\n",
        "        output = model(data)\n",
        "        loss = F.nll_loss(output, target)\n",
        "        loss.backward()\n",
        "        optimizer.step()\n",
        "        # --- END CODE HERE\n",
        "\n",
        "        if batch_idx % 100 == 0:\n",
        "            print('epoch {}, loss {}'.format(epoch, loss.item()))"
      ]
    },
    {
      "cell_type": "code",
      "execution_count": null,
      "metadata": {
        "id": "zI8QtzV2yZC0"
      },
      "outputs": [],
      "source": [
        "def test(model, test_loader):\n",
        "    model.eval()\n",
        "    test_loss = 0\n",
        "    correct = 0\n",
        "    with torch.no_grad():\n",
        "        for data, target in test_loader:\n",
        "            # --- START CODE HERE\n",
        "            output = model(data)\n",
        "            test_loss += F.nll_loss(output, target, reduction='sum').item()\n",
        "            pred = output.argmax(dim=1, keepdim=True)\n",
        "            correct += pred.eq(target.view_as(pred)).sum().item()\n",
        "            # --- STOP CODE HERE\n",
        "\n",
        "    test_loss /= len(test_loader.dataset)\n",
        "    correct /= len(test_loader.dataset)\n",
        "    print('\\nTest set: Average loss: {}, Accuracy: {}\\n'.format(test_loss, correct))"
      ]
    },
    {
      "cell_type": "markdown",
      "metadata": {
        "id": "9MXQIbcJyZC0"
      },
      "source": [
        "## Looping over epochs\n",
        "\n",
        "\n",
        "We finally define, how we will optimize our parameters by defining an optimizer.\n",
        "We will use here a very simple one: the SGD (```optim.SGD```) with a learning rate of 0.01.\n",
        "\n",
        "At each iteration, we then call the train and the test function."
      ]
    },
    {
      "cell_type": "code",
      "execution_count": null,
      "metadata": {
        "id": "ofYcX05ZyZC0",
        "colab": {
          "base_uri": "https://localhost:8080/"
        },
        "outputId": "9922ef54-cee7-45b0-a026-8abb3e4fc489"
      },
      "outputs": [
        {
          "output_type": "stream",
          "name": "stdout",
          "text": [
            "epoch 1, loss 2.330418825149536\n",
            "epoch 1, loss 0.7129853963851929\n",
            "epoch 1, loss 0.47872835397720337\n",
            "epoch 1, loss 0.20551152527332306\n",
            "epoch 1, loss 0.25926628708839417\n",
            "epoch 1, loss 0.21244096755981445\n",
            "epoch 1, loss 0.193203404545784\n",
            "epoch 1, loss 0.1196436807513237\n",
            "epoch 1, loss 0.14615444839000702\n",
            "epoch 1, loss 0.1626826971769333\n",
            "\n",
            "Test set: Average loss: 0.17659655505120755, Accuracy: 0.9476\n",
            "\n",
            "epoch 2, loss 0.2104191780090332\n",
            "epoch 2, loss 0.46984541416168213\n",
            "epoch 2, loss 0.15836305916309357\n",
            "epoch 2, loss 0.14481483399868011\n",
            "epoch 2, loss 0.09653306752443314\n",
            "epoch 2, loss 0.23504862189292908\n",
            "epoch 2, loss 0.27321621775627136\n",
            "epoch 2, loss 0.1926669180393219\n",
            "epoch 2, loss 0.1447644978761673\n",
            "epoch 2, loss 0.1369144767522812\n",
            "\n",
            "Test set: Average loss: 0.11371979680880905, Accuracy: 0.9645\n",
            "\n",
            "epoch 3, loss 0.1305980235338211\n",
            "epoch 3, loss 0.28861626982688904\n",
            "epoch 3, loss 0.06336481124162674\n",
            "epoch 3, loss 0.04569612443447113\n",
            "epoch 3, loss 0.02325832098722458\n",
            "epoch 3, loss 0.028504999354481697\n",
            "epoch 3, loss 0.1301739364862442\n",
            "epoch 3, loss 0.12193935364484787\n",
            "epoch 3, loss 0.10334882140159607\n",
            "epoch 3, loss 0.05559484660625458\n",
            "\n",
            "Test set: Average loss: 0.09783120120614767, Accuracy: 0.9714\n",
            "\n",
            "epoch 4, loss 0.06695770472288132\n",
            "epoch 4, loss 0.05316079780459404\n",
            "epoch 4, loss 0.09876632690429688\n",
            "epoch 4, loss 0.14202669262886047\n",
            "epoch 4, loss 0.05546392500400543\n",
            "epoch 4, loss 0.07981416583061218\n",
            "epoch 4, loss 0.08284562826156616\n",
            "epoch 4, loss 0.014550426974892616\n",
            "epoch 4, loss 0.14528986811637878\n",
            "epoch 4, loss 0.09564005583524704\n",
            "\n",
            "Test set: Average loss: 0.11375958805400878, Accuracy: 0.9641\n",
            "\n",
            "epoch 5, loss 0.024953218176960945\n",
            "epoch 5, loss 0.02963925339281559\n",
            "epoch 5, loss 0.1143077090382576\n",
            "epoch 5, loss 0.07820191979408264\n",
            "epoch 5, loss 0.00486468942835927\n",
            "epoch 5, loss 0.050286564975976944\n",
            "epoch 5, loss 0.08597496896982193\n",
            "epoch 5, loss 0.0393160842359066\n",
            "epoch 5, loss 0.0476682111620903\n",
            "epoch 5, loss 0.08880358189344406\n",
            "\n",
            "Test set: Average loss: 0.0795729123183526, Accuracy: 0.9737\n",
            "\n",
            "epoch 6, loss 0.007288909517228603\n",
            "epoch 6, loss 0.04419029504060745\n",
            "epoch 6, loss 0.07474154233932495\n",
            "epoch 6, loss 0.05272499471902847\n",
            "epoch 6, loss 0.01773441955447197\n",
            "epoch 6, loss 0.1480395793914795\n",
            "epoch 6, loss 0.03697076067328453\n",
            "epoch 6, loss 0.04991431534290314\n",
            "epoch 6, loss 0.06037521734833717\n",
            "epoch 6, loss 0.1322825700044632\n",
            "\n",
            "Test set: Average loss: 0.07027522012246773, Accuracy: 0.9772\n",
            "\n",
            "epoch 7, loss 0.11125492304563522\n",
            "epoch 7, loss 0.03970026969909668\n",
            "epoch 7, loss 0.09950043261051178\n",
            "epoch 7, loss 0.05332077294588089\n",
            "epoch 7, loss 0.030030639842152596\n",
            "epoch 7, loss 0.023029664531350136\n",
            "epoch 7, loss 0.0369420051574707\n",
            "epoch 7, loss 0.11011134833097458\n",
            "epoch 7, loss 0.04814409837126732\n",
            "epoch 7, loss 0.009668558835983276\n",
            "\n",
            "Test set: Average loss: 0.07243044229373335, Accuracy: 0.9775\n",
            "\n",
            "epoch 8, loss 0.052699219435453415\n",
            "epoch 8, loss 0.027510881423950195\n",
            "epoch 8, loss 0.05820038542151451\n",
            "epoch 8, loss 0.046886373311281204\n",
            "epoch 8, loss 0.06508824229240417\n",
            "epoch 8, loss 0.007292310241609812\n",
            "epoch 8, loss 0.053694214671850204\n",
            "epoch 8, loss 0.048347439616918564\n",
            "epoch 8, loss 0.036164768040180206\n",
            "epoch 8, loss 0.007122025825083256\n",
            "\n",
            "Test set: Average loss: 0.07651011487003416, Accuracy: 0.9749\n",
            "\n",
            "epoch 9, loss 0.03002133034169674\n",
            "epoch 9, loss 0.025357674807310104\n",
            "epoch 9, loss 0.016104435548186302\n",
            "epoch 9, loss 0.013228025287389755\n",
            "epoch 9, loss 0.024324610829353333\n",
            "epoch 9, loss 0.015322617255151272\n",
            "epoch 9, loss 0.013575563207268715\n",
            "epoch 9, loss 0.019707847386598587\n",
            "epoch 9, loss 0.07084708660840988\n",
            "epoch 9, loss 0.08340459316968918\n",
            "\n",
            "Test set: Average loss: 0.06581364430298563, Accuracy: 0.9805\n",
            "\n",
            "epoch 10, loss 0.034517839550971985\n",
            "epoch 10, loss 0.008823007345199585\n",
            "epoch 10, loss 0.04403822124004364\n",
            "epoch 10, loss 0.012472919188439846\n",
            "epoch 10, loss 0.04710007086396217\n",
            "epoch 10, loss 0.04858027771115303\n",
            "epoch 10, loss 0.008604472503066063\n",
            "epoch 10, loss 0.06415381282567978\n",
            "epoch 10, loss 0.009609373286366463\n",
            "epoch 10, loss 0.06042081117630005\n",
            "\n",
            "Test set: Average loss: 0.06283481874247082, Accuracy: 0.9805\n",
            "\n"
          ]
        }
      ],
      "source": [
        "model = Net()\n",
        "optimizer = optim.SGD(model.parameters(), lr=0.01, momentum=0.9)\n",
        "nb_epoch = 10\n",
        "for epoch in range(1, nb_epoch + 1):\n",
        "        # --- START CODE HERE\n",
        "        train(model, train_loader, optimizer, epoch)\n",
        "        test(model, test_loader)\n",
        "        # --- END CODE HERE"
      ]
    }
  ],
  "metadata": {
    "kernelspec": {
      "display_name": "Python 3",
      "language": "python",
      "name": "python3"
    },
    "language_info": {
      "codemirror_mode": {
        "name": "ipython",
        "version": 3
      },
      "file_extension": ".py",
      "mimetype": "text/x-python",
      "name": "python",
      "nbconvert_exporter": "python",
      "pygments_lexer": "ipython3",
      "version": "3.8.5"
    },
    "toc": {
      "base_numbering": 1,
      "nav_menu": {},
      "number_sections": true,
      "sideBar": true,
      "skip_h1_title": false,
      "title_cell": "Table of Contents",
      "title_sidebar": "Contents",
      "toc_cell": false,
      "toc_position": {
        "height": "calc(100% - 180px)",
        "left": "10px",
        "top": "150px",
        "width": "165px"
      },
      "toc_section_display": true,
      "toc_window_display": false
    },
    "colab": {
      "provenance": []
    }
  },
  "nbformat": 4,
  "nbformat_minor": 0
}